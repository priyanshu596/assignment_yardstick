{
  "nbformat": 4,
  "nbformat_minor": 0,
  "metadata": {
    "colab": {
      "provenance": []
    },
    "kernelspec": {
      "name": "python3",
      "display_name": "Python 3"
    },
    "language_info": {
      "name": "python"
    }
  },
  "cells": [
    {
      "cell_type": "markdown",
      "source": [
        "**TASK 1 : Managing Conversation History with Summarization**"
      ],
      "metadata": {
        "id": "v_e1BcWD5f4T"
      }
    },
    {
      "cell_type": "code",
      "source": [
        "!pip install openai\n"
      ],
      "metadata": {
        "colab": {
          "base_uri": "https://localhost:8080/"
        },
        "id": "YODY4dqj3Khu",
        "outputId": "ba789714-b7d5-43d1-a15f-2e111cc6b81a"
      },
      "execution_count": 22,
      "outputs": [
        {
          "output_type": "stream",
          "name": "stdout",
          "text": [
            "Requirement already satisfied: openai in /usr/local/lib/python3.12/dist-packages (1.107.0)\n",
            "Requirement already satisfied: anyio<5,>=3.5.0 in /usr/local/lib/python3.12/dist-packages (from openai) (4.10.0)\n",
            "Requirement already satisfied: distro<2,>=1.7.0 in /usr/local/lib/python3.12/dist-packages (from openai) (1.9.0)\n",
            "Requirement already satisfied: httpx<1,>=0.23.0 in /usr/local/lib/python3.12/dist-packages (from openai) (0.28.1)\n",
            "Requirement already satisfied: jiter<1,>=0.4.0 in /usr/local/lib/python3.12/dist-packages (from openai) (0.10.0)\n",
            "Requirement already satisfied: pydantic<3,>=1.9.0 in /usr/local/lib/python3.12/dist-packages (from openai) (2.11.7)\n",
            "Requirement already satisfied: sniffio in /usr/local/lib/python3.12/dist-packages (from openai) (1.3.1)\n",
            "Requirement already satisfied: tqdm>4 in /usr/local/lib/python3.12/dist-packages (from openai) (4.67.1)\n",
            "Requirement already satisfied: typing-extensions<5,>=4.11 in /usr/local/lib/python3.12/dist-packages (from openai) (4.15.0)\n",
            "Requirement already satisfied: idna>=2.8 in /usr/local/lib/python3.12/dist-packages (from anyio<5,>=3.5.0->openai) (3.10)\n",
            "Requirement already satisfied: certifi in /usr/local/lib/python3.12/dist-packages (from httpx<1,>=0.23.0->openai) (2025.8.3)\n",
            "Requirement already satisfied: httpcore==1.* in /usr/local/lib/python3.12/dist-packages (from httpx<1,>=0.23.0->openai) (1.0.9)\n",
            "Requirement already satisfied: h11>=0.16 in /usr/local/lib/python3.12/dist-packages (from httpcore==1.*->httpx<1,>=0.23.0->openai) (0.16.0)\n",
            "Requirement already satisfied: annotated-types>=0.6.0 in /usr/local/lib/python3.12/dist-packages (from pydantic<3,>=1.9.0->openai) (0.7.0)\n",
            "Requirement already satisfied: pydantic-core==2.33.2 in /usr/local/lib/python3.12/dist-packages (from pydantic<3,>=1.9.0->openai) (2.33.2)\n",
            "Requirement already satisfied: typing-inspection>=0.4.0 in /usr/local/lib/python3.12/dist-packages (from pydantic<3,>=1.9.0->openai) (0.4.1)\n"
          ]
        }
      ]
    },
    {
      "cell_type": "code",
      "source": [
        "from openai import OpenAI\n",
        "import os\n"
      ],
      "metadata": {
        "id": "jLv2MSrc3LFG"
      },
      "execution_count": 23,
      "outputs": []
    },
    {
      "cell_type": "code",
      "source": [
        "# Store your API key securely in Colab\n",
        "import os\n",
        "\n",
        "# Secure input (won't show in output)\n",
        "from getpass import getpass\n",
        "\n",
        "# Prompt for key without displaying it\n",
        "os.environ[\"GROQ_API_KEY\"] = getpass(\"🔑 Enter your Groq API Key: \")\n",
        "\n",
        "# Retrieve it for use\n",
        "api_key = os.environ[\"GROQ_API_KEY\"]\n",
        "\n",
        "\n",
        "\n",
        "client = OpenAI(\n",
        "    api_key=os.getenv(\"GROQ_API_KEY\"),\n",
        "    base_url=\"https://api.groq.com/openai/v1\"\n",
        ")\n"
      ],
      "metadata": {
        "colab": {
          "base_uri": "https://localhost:8080/"
        },
        "id": "215CVDTO3NyK",
        "outputId": "2e1b65e8-0ece-47a0-def2-ca70241471c5"
      },
      "execution_count": 39,
      "outputs": [
        {
          "name": "stdout",
          "output_type": "stream",
          "text": [
            "🔑 Enter your Groq API Key: ··········\n"
          ]
        }
      ]
    },
    {
      "cell_type": "code",
      "source": [
        "class ConversationManager:\n",
        "    def __init__(self, summarization_interval=3, truncation_limit=5, truncation_type=\"turns\"):\n",
        "        self.history = []\n",
        "        self.run_count = 0\n",
        "        self.summarization_interval = summarization_interval\n",
        "        self.truncation_limit = truncation_limit\n",
        "        self.truncation_type = truncation_type  # \"turns\" or \"words\"\n",
        "\n",
        "    def add_message(self, role, content):\n",
        "        self.history.append({\"role\": role, \"content\": content})\n",
        "\n",
        "    def truncate_history(self):\n",
        "        if self.truncation_type == \"turns\":\n",
        "            return self.history[-self.truncation_limit:]\n",
        "        elif self.truncation_type == \"words\":\n",
        "            joined = \" \".join([m[\"content\"] for m in self.history])\n",
        "            words = joined.split()\n",
        "            truncated = \" \".join(words[-self.truncation_limit:])\n",
        "            return [{\"role\": \"system\", \"content\": truncated}]\n",
        "        return self.history\n",
        "\n",
        "    def summarize_history(self):\n",
        "        response = client.chat.completions.create(\n",
        "            model=\"llama-3.3-70b-versatile\",\n",
        "            messages=[\n",
        "                {\"role\": \"system\", \"content\": \"Summarize the following conversation briefly.\"},\n",
        "                {\"role\": \"user\", \"content\": str(self.history)}\n",
        "            ]\n",
        "        )\n",
        "        summary = response.choices[0].message.content\n",
        "        self.history = [{\"role\": \"system\", \"content\": f\"Summary so far: {summary}\"}]\n",
        "\n",
        "    def interact(self, user_input):\n",
        "        self.add_message(\"user\", user_input)\n",
        "        truncated_history = self.truncate_history()\n",
        "        response = client.chat.completions.create(\n",
        "            model=\"llama-3.3-70b-versatile\",\n",
        "            messages=truncated_history\n",
        "        )\n",
        "        reply = response.choices[0].message.content\n",
        "\n",
        "        self.add_message(\"assistant\", reply)\n",
        "\n",
        "        # Track runs and summarize periodically\n",
        "        self.run_count += 1\n",
        "        if self.run_count % self.summarization_interval == 0:\n",
        "            self.summarize_history()\n",
        "\n",
        "        return reply\n"
      ],
      "metadata": {
        "id": "QHEjzcOw3Q7i"
      },
      "execution_count": 32,
      "outputs": []
    },
    {
      "cell_type": "code",
      "source": [
        "conv = ConversationManager(summarization_interval=3, truncation_limit=4, truncation_type=\"turns\")\n",
        "\n",
        "print(\"User: Hello!\")\n",
        "print(\"Assistant:\", conv.interact(\"Hello!\"))\n",
        "print(\"\\nUser: Can you tell me about AI?\")\n",
        "print(\"Assistant:\", conv.interact(\"Can you tell me about AI?\"))\n",
        "print(\"\\nUser: What about reinforcement learning?\")\n",
        "print(\"Assistant:\", conv.interact(\"What about reinforcement learning?\"))  # triggers summarization\n",
        "print(\"\\nUser: Continue about robotics.\")\n",
        "print(\"Assistant:\", conv.interact(\"Continue about robotics.\"))\n"
      ],
      "metadata": {
        "colab": {
          "base_uri": "https://localhost:8080/"
        },
        "id": "9ak0azA03ZJY",
        "outputId": "f4bdc5a8-4879-4021-84bd-d5745f5c5914"
      },
      "execution_count": 33,
      "outputs": [
        {
          "output_type": "stream",
          "name": "stdout",
          "text": [
            "User: Hello!\n",
            "Assistant: Hello. It's nice to meet you. Is there something I can help you with, or would you like to chat?\n",
            "\n",
            "User: Can you tell me about AI?\n",
            "Assistant: Artificial Intelligence (AI) is a fascinating and rapidly evolving field that has been transforming numerous aspects of our lives. I'll provide you with an overview of AI, its types, applications, and some of the current trends.\n",
            "\n",
            "**What is Artificial Intelligence (AI)?**\n",
            "\n",
            "Artificial Intelligence refers to the development of computer systems that can perform tasks that typically require human intelligence, such as:\n",
            "\n",
            "1. Learning: AI systems can learn from data, experiences, and interactions.\n",
            "2. Problem-solving: AI systems can analyze situations, identify patterns, and make decisions.\n",
            "3. Reasoning: AI systems can draw inferences, make predictions, and take actions.\n",
            "4. Perception: AI systems can interpret and understand data from sensors, such as images, speech, and text.\n",
            "\n",
            "**Types of AI:**\n",
            "\n",
            "1. **Narrow or Weak AI**: Designed to perform a specific task, such as image recognition, language translation, or playing chess.\n",
            "2. **General or Strong AI**: A hypothetical AI system that possesses the ability to understand, learn, and apply knowledge across a wide range of tasks, similar to human intelligence.\n",
            "3. **Superintelligence**: An AI system that significantly surpasses human intelligence in many domains, which is still a topic of debate and research.\n",
            "\n",
            "**Applications of AI:**\n",
            "\n",
            "1. **Virtual Assistants**: Siri, Google Assistant, Alexa, and others use AI to understand voice commands and perform tasks.\n",
            "2. **Image and Speech Recognition**: AI-powered systems can recognize faces, objects, and speech patterns.\n",
            "3. **Natural Language Processing (NLP)**: AI systems can understand, generate, and process human language.\n",
            "4. **Predictive Maintenance**: AI-powered systems can analyze data to predict equipment failures and schedule maintenance.\n",
            "5. **Healthcare**: AI is used in medical diagnosis, personalized medicine, and patient engagement.\n",
            "\n",
            "**Current Trends:**\n",
            "\n",
            "1. **Deep Learning**: A subset of machine learning that uses neural networks to analyze data.\n",
            "2. **Edge AI**: AI systems that process data in real-time, at the edge of the network, reducing latency and improving performance.\n",
            "3. **Explainable AI (XAI)**: Efforts to make AI decisions more transparent and understandable.\n",
            "4. **Adversarial AI**: Research on AI systems that can defend against or generate attacks on other AI systems.\n",
            "\n",
            "**Challenges and Concerns:**\n",
            "\n",
            "1. **Job Displacement**: AI may automate certain jobs, leading to unemployment and social changes.\n",
            "2. **Bias and Ethics**: AI systems can perpetuate biases and raise ethical concerns, such as privacy and accountability.\n",
            "3. **Security**: AI systems can be vulnerable to cyber attacks and data breaches.\n",
            "\n",
            "This is just a brief introduction to the world of AI. If you have specific questions or topics you'd like to explore further, I'm here to help!\n",
            "\n",
            "User: What about reinforcement learning?\n",
            "Assistant: Reinforcement learning (RL) is a fascinating area of artificial intelligence that has gained significant attention in recent years. It's a type of machine learning that involves an agent learning to take actions in an environment to maximize a reward signal.\n",
            "\n",
            "**What is Reinforcement Learning?**\n",
            "\n",
            "Reinforcement learning is a subfield of machine learning that focuses on training agents to make decisions in complex, uncertain environments. The agent learns through trial and error by interacting with the environment and receiving feedback in the form of rewards or penalties.\n",
            "\n",
            "**Key Components of Reinforcement Learning:**\n",
            "\n",
            "1. **Agent**: The decision-making entity that interacts with the environment.\n",
            "2. **Environment**: The external world that the agent interacts with.\n",
            "3. **Actions**: The decisions made by the agent.\n",
            "4. **Rewards**: The feedback received by the agent for its actions.\n",
            "5. **Policy**: The strategy used by the agent to select actions.\n",
            "6. **Value Function**: The expected return or reward for an action or state.\n",
            "\n",
            "**How Reinforcement Learning Works:**\n",
            "\n",
            "1. **Exploration**: The agent explores the environment by trying different actions.\n",
            "2. **Exploitation**: The agent uses its current knowledge to select the best action.\n",
            "3. **Learning**: The agent updates its policy and value function based on the rewards received.\n",
            "4. **Iteration**: The agent repeats the process, refining its policy and improving performance.\n",
            "\n",
            "**Types of Reinforcement Learning:**\n",
            "\n",
            "1. **Episodic**: The agent learns from a sequence of episodes, each with a fixed length.\n",
            "2. **Continuing**: The agent learns from a continuous stream of experiences.\n",
            "3. **Model-based**: The agent learns a model of the environment and uses it to plan actions.\n",
            "4. **Model-free**: The agent learns without a model of the environment.\n",
            "\n",
            "**Algorithms:**\n",
            "\n",
            "1. **Q-learning**: A popular model-free algorithm that learns the value function.\n",
            "2. **SARSA**: A model-free algorithm that learns the policy and value function.\n",
            "3. **Deep Q-Networks (DQN)**: A model-free algorithm that uses deep neural networks to learn the value function.\n",
            "4. **Policy Gradient Methods**: Model-free algorithms that learn the policy directly.\n",
            "\n",
            "**Applications:**\n",
            "\n",
            "1. **Game Playing**: RL has been used to achieve superhuman performance in games like Go, Poker, and Video Games.\n",
            "2. **Robotics**: RL is used to control robots and learn complex tasks like grasping and manipulation.\n",
            "3. **Autonomous Vehicles**: RL is used to develop control policies for self-driving cars.\n",
            "4. **Recommendation Systems**: RL is used to personalize recommendations based on user behavior.\n",
            "\n",
            "**Challenges:**\n",
            "\n",
            "1. **Exploration-Exploitation Trade-off**: Balancing exploration and exploitation to learn efficiently.\n",
            "2. **Curse of Dimensionality**: Handling high-dimensional state and action spaces.\n",
            "3. **Off-policy Learning**: Learning from experiences gathered without following the same policy.\n",
            "4. **Partial Observability**: Dealing with incomplete or noisy observations of the environment.\n",
            "\n",
            "Reinforcement learning has the potential to revolutionize many areas, including robotics, healthcare, and finance. However, it also poses significant challenges, such as exploration-exploitation trade-offs and partial observability. Ongoing research is focused on addressing these challenges and developing more efficient and robust RL algorithms.\n",
            "\n",
            "Do you have any specific questions about reinforcement learning or its applications?\n",
            "\n",
            "User: Continue about robotics.\n",
            "Assistant: Robotics is a fascinating field that has seen significant advancements in recent years, thanks in part to the development of artificial intelligence (AI) and machine learning (ML) techniques. Robotics involves the design, construction, and operation of robots, which are machines that can perform tasks autonomously or with some degree of human control.\n",
            "\n",
            "**Applications of Robotics:**\n",
            "\n",
            "1. **Industrial Robotics:** Robots are widely used in manufacturing and industrial settings to perform tasks such as welding, assembly, and material handling.\n",
            "2. **Service Robotics:** Robots are used in service industries such as healthcare, hospitality, and transportation to perform tasks such as patient care, cleaning, and delivery.\n",
            "3. **Autonomous Vehicles:** Self-driving cars and drones are being developed to revolutionize transportation and logistics.\n",
            "4. **Space Exploration:** Robots are used in space exploration to perform tasks such as planetary exploration, sample collection, and maintenance.\n",
            "\n",
            "**Role of AI and ML in Robotics:**\n",
            "\n",
            "1. **Computer Vision:** AI and ML algorithms are used to enable robots to perceive and understand their environment through computer vision.\n",
            "2. **Motion Planning:** AI and ML algorithms are used to plan and execute robot motions, such as navigation and grasping.\n",
            "3. **Control Systems:** AI and ML algorithms are used to control robots and ensure stable and efficient operation.\n",
            "4. **Human-Robot Interaction:** AI and ML algorithms are used to enable robots to interact with humans in a natural and intuitive way.\n",
            "\n",
            "**Current Trends and Challenges:**\n",
            "\n",
            "1. **Human-Robot Collaboration:** Developing robots that can collaborate with humans in a safe and efficient manner is a major challenge.\n",
            "2. **Autonomy:** Developing robots that can operate autonomously in complex and dynamic environments is a significant challenge.\n",
            "3. **Safety and Security:** Ensuring the safety and security of robots and their human operators is a critical challenge.\n",
            "4. **Ethics and Social Acceptance:** Developing robots that are socially acceptable and comply with ethical standards is an important challenge.\n",
            "\n",
            "**Reinforcement Learning in Robotics:**\n",
            "\n",
            "Reinforcement learning (RL) is a type of ML that involves training agents to take actions in an environment to maximize a reward signal. RL has been successfully applied to various robotics tasks, such as:\n",
            "\n",
            "1. **Robot Arm Control:** RL has been used to train robot arms to perform tasks such as grasping and manipulation.\n",
            "2. **Robot Navigation:** RL has been used to train robots to navigate complex environments and avoid obstacles.\n",
            "3. **Human-Robot Interaction:** RL has been used to train robots to interact with humans in a natural and intuitive way.\n",
            "\n",
            "**Future of Robotics:**\n",
            "\n",
            "The future of robotics holds much promise, with potential applications in areas such as:\n",
            "\n",
            "1. **Healthcare:** Robots could be used to assist with patient care, surgery, and rehabilitation.\n",
            "2. **Transportation:** Self-driving cars and drones could revolutionize transportation and logistics.\n",
            "3. **Space Exploration:** Robots could be used to explore and settle other planets.\n",
            "4. **Education:** Robots could be used to teach and educate students in a more engaging and interactive way.\n",
            "\n",
            "Overall, robotics is a rapidly evolving field that has the potential to transform many aspects of our lives. With the development of AI and ML techniques, robots are becoming increasingly sophisticated and autonomous, and their applications are expanding into new areas.\n"
          ]
        }
      ]
    },
    {
      "cell_type": "code",
      "source": [],
      "metadata": {
        "id": "bMKcpyl547Yk"
      },
      "execution_count": null,
      "outputs": []
    },
    {
      "cell_type": "code",
      "source": [],
      "metadata": {
        "id": "FXWh46Rp47Rx"
      },
      "execution_count": null,
      "outputs": []
    },
    {
      "cell_type": "code",
      "source": [],
      "metadata": {
        "id": "r7ooxvN-47OZ"
      },
      "execution_count": null,
      "outputs": []
    },
    {
      "cell_type": "markdown",
      "source": [
        "**TASK 2 JSON Schema Classification & Information**"
      ],
      "metadata": {
        "id": "VmDht_x-4kZy"
      }
    },
    {
      "cell_type": "code",
      "source": [
        "schema = {\n",
        "    \"name\": \"extract_user_info\",\n",
        "    \"description\": \"Extracts user details from a conversation.\",\n",
        "    \"parameters\": {\n",
        "        \"type\": \"object\",\n",
        "        \"properties\": {\n",
        "            \"name\": {\"type\": \"string\", \"description\": \"Full name of the user\"},\n",
        "            \"email\": {\"type\": \"string\", \"description\": \"Email address\"},\n",
        "            \"phone\": {\"type\": \"string\", \"description\": \"Phone number\"},\n",
        "            \"location\": {\"type\": \"string\", \"description\": \"Location or city\"},\n",
        "            \"age\": {\"type\": \"integer\", \"description\": \"Age in years\"}\n",
        "        },\n",
        "        \"required\": [\"name\", \"email\", \"phone\", \"location\", \"age\"]\n",
        "    }\n",
        "}\n"
      ],
      "metadata": {
        "id": "JV89nLh43b0j"
      },
      "execution_count": 34,
      "outputs": []
    },
    {
      "cell_type": "code",
      "source": [
        "def extract_info_from_chat(chat_text):\n",
        "    response = client.chat.completions.create(\n",
        "        model=\"llama-3.3-70b-versatile\",\n",
        "        messages=[\n",
        "            {\"role\": \"system\", \"content\": \"You are an information extraction assistant.\"},\n",
        "            {\"role\": \"user\", \"content\": chat_text}\n",
        "        ],\n",
        "        functions=[schema],          # pass the schema\n",
        "        function_call=\"auto\"         # let the model decide when to call\n",
        "    )\n",
        "\n",
        "    # Extract structured output\n",
        "    try:\n",
        "        function_args = response.choices[0].message.function_call.arguments\n",
        "        return function_args\n",
        "    except Exception as e:\n",
        "        return {\"error\": str(e)}\n"
      ],
      "metadata": {
        "id": "Q1J9dLnp4948"
      },
      "execution_count": 35,
      "outputs": []
    },
    {
      "cell_type": "code",
      "source": [
        "sample_chats = [\n",
        "    \"Hi, I'm Priya Sharma, my email is priya123@gmail.com, you can call me at 9876543210. I live in Mumbai and I am 22 years old.\",\n",
        "    \"Hello, this is John Doe. You can reach me at john.doe@example.com or call at 9123456789. I'm from New Delhi, 25 years old.\",\n",
        "    \"Hey, name's Ankit Verma, age 30. Based in Bangalore. Contact me on ankitv@gmail.com, phone 9988776655.\"\n",
        "]\n",
        "\n",
        "for i, chat in enumerate(sample_chats, 1):\n",
        "    print(f\"--- Sample Chat {i} ---\")\n",
        "    print(extract_info_from_chat(chat))\n",
        "    print()\n"
      ],
      "metadata": {
        "colab": {
          "base_uri": "https://localhost:8080/"
        },
        "id": "lz9-U4rp5ARw",
        "outputId": "0045fe0e-e607-42bf-b5f6-b2ab03589363"
      },
      "execution_count": 36,
      "outputs": [
        {
          "output_type": "stream",
          "name": "stdout",
          "text": [
            "--- Sample Chat 1 ---\n",
            "{\"age\":22,\"email\":\"priya123@gmail.com\",\"location\":\"Mumbai\",\"name\":\"Priya Sharma\",\"phone\":\"9876543210\"}\n",
            "\n",
            "--- Sample Chat 2 ---\n",
            "{\"age\":25,\"email\":\"john.doe@example.com\",\"location\":\"New Delhi\",\"name\":\"John Doe\",\"phone\":\"9123456789\"}\n",
            "\n",
            "--- Sample Chat 3 ---\n",
            "{\"age\":30,\"email\":\"ankitv@gmail.com\",\"location\":\"Bangalore\",\"name\":\"Ankit Verma\",\"phone\":\"9988776655\"}\n",
            "\n"
          ]
        }
      ]
    },
    {
      "cell_type": "code",
      "source": [],
      "metadata": {
        "id": "AmdUfYYa5GcA"
      },
      "execution_count": null,
      "outputs": []
    }
  ]
}